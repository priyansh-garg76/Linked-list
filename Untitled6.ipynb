{
  "nbformat": 4,
  "nbformat_minor": 0,
  "metadata": {
    "colab": {
      "name": "Untitled6.ipynb",
      "provenance": []
    },
    "kernelspec": {
      "name": "python3",
      "display_name": "Python 3"
    },
    "language_info": {
      "name": "python"
    }
  },
  "cells": [
    {
      "cell_type": "code",
      "metadata": {
        "id": "3LuuSsfEzANu"
      },
      "source": [
        "name= input(\"Enter name of the item\")\n",
        "quantity=input(\"Enter quantity/weight\")\n",
        "def findprice(name)\n",
        "switcher={\n",
        "    'LED': \n",
        "}\n",
        "case(LED bulbs): LED bulbs(4.99,quantity)\n",
        "                  break\n",
        "name= input(\"Enter name of the item\")\n",
        "quantity=input(\"Enter quantity/weight\")\n",
        "def findprice(name)\n",
        "switcher={\n",
        "    'LED': \n",
        "}\n",
        "case(LED bulbs): LED bulbs(4.99,quantity)\n",
        "                  break\n",
        "name= input(\"Enter name of the item\")\n",
        "quantity=input(\"Enter quantity/weight\")\n",
        "def findprice(name)\n",
        "switcher={\n",
        "    'LED': \n",
        "}\n",
        "case(LED bulbs): LED bulbs(4.99,quantity)\n",
        "                  break\n",
        "name= input(\"Enter name of the item\")\n",
        "quantity=input(\"Enter quantity/weight\")\n",
        "def findprice(name)\n",
        "switcher={\n",
        "    'LED': \n",
        "}\n",
        "case(LED bulbs): LED bulbs(4.99,quantity)\n",
        "                  break\n"
      ],
      "execution_count": null,
      "outputs": []
    }
  ]
}