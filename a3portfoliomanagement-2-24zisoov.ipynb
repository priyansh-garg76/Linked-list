{
 "cells": [
  {
   "cell_type": "markdown",
   "metadata": {},
   "source": [
    "\n",
    "# Assignment 3: Portfolio Management \n",
    "\n",
    "Data on average monthly returns for nine different hedge fund styles (e.g., long-short equity, market-neutral, global macro) are available at `https://github.com/mariuszoican/mgt443/blob/main/Data/A3_HedgeFunds.xlsx?raw=true`.\n",
    "\n",
    "The goal of this assignment is to implement a risk management strategy of **drawdown control**.\n",
    "\n",
    "1. Assume that at the end of December 1993, each hedge fund index (i.e., corresponding to a particular style) had a price equal to one. Given the monthly returns in the data, compute the price for each hedge fund style index at the end of each month. In this example, the price is equal to the cumulative return on the index.\n",
    "\n",
    "2. Compute the high-water mark for each fund style. The high-water mark for a fund at time $t$ is the highest price the fund has achieved before or at time $t$. Formally,\n",
    "\n",
    "$$\\text{HWM}_t=\\max_{0\\leq s \\leq t} p_s$$\n",
    "\n",
    "3. Compute the drawdown for each fund style. The drawdown at time $t$ is the distance from the current price to the high-water mark (in percentage style). In other words, the drawdown measures how far the hedge fund is at any given moment from its best historical performance:\n",
    "\n",
    "$$\\text{DD}_t=\\frac{\\text{HWM}_t-p_t}{\\text{HWM}_t}$$\n",
    "\n",
    "4. The goal of the assignment is to implement a drawdown control strategy by scaling down the position when the value-at-risk becomes \"too close\" to the **maximum acceptable drawdown** ($MADD$). We assume that $MADD=30\\%$ and that the value at risk is a 3-sigma event (three times the stock historical volatility, or 3$\\sigma_t$). Specifically, you need to choose each month and for each style an investment scale (return scalar) $x$ such that:\n",
    "\n",
    "$$x \\times 3\\sigma_t \\leq \\text{MADD}-\\text{DD}_t \\leftrightarrow x=\\frac{\\text{MADD}-\\text{DD}_t}{3\\sigma_t}.$$\n",
    "\n",
    "If $3\\sigma_t \\leq \\text{MADD}-\\text{DD}_t$ then you are not in “drawdown control mode” and you continue with investment of $x=1$ (full investment). Otherwise, you enter “drawdown control mode” and set the investment scale to $x=\\frac{\\text{MADD}-\\text{DD}_t}{3\\sigma_t}$. You never go short: if the current drawdown is higher than the $MADD$, you simply set $x=0$.\n",
    "\n",
    "To compute the historical volatility $\\sigma_t$, use the annualized volatility as the realized standard deviation over the past 12 months. For the first year, 1994, use the value from January 1995. For February 1995, use returns from February 1994 to January 1995. For March 1995, use returns from March 1994 to February 1995, and so on.\n",
    "\n",
    "5. Compute the total drawdown-adjusted return for each fund and month using the drawdown control scale x from the previous month as\n",
    "\n",
    "$$R_t^\\text{DD-adjusted}=x_t×R_t$$\n",
    "\n",
    "6. Plot the cumulative total raw return and the cumulative drawdown-adjusted return for two styles: dedicated short bias and long/short equity funds. What do you conclude?"
   ]
  },
  {
   "cell_type": "code",
   "execution_count": null,
   "metadata": {},
   "outputs": [],
   "source": []
  }
 ],
 "metadata": {
  "kernelspec": {
   "display_name": "Python 3",
   "language": "python",
   "name": "python3"
  },
  "language_info": {
   "codemirror_mode": {
    "name": "ipython",
    "version": 3
   },
   "file_extension": ".py",
   "mimetype": "text/x-python",
   "name": "python",
   "nbconvert_exporter": "python",
   "pygments_lexer": "ipython3",
   "version": "3.8.8"
  },
  "toc": {
   "base_numbering": 1,
   "nav_menu": {},
   "number_sections": true,
   "sideBar": true,
   "skip_h1_title": false,
   "title_cell": "Table of Contents",
   "title_sidebar": "Contents",
   "toc_cell": false,
   "toc_position": {},
   "toc_section_display": true,
   "toc_window_display": false
  }
 },
 "nbformat": 4,
 "nbformat_minor": 2
}
